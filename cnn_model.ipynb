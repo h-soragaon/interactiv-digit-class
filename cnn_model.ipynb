{
 "cells": [
  {
   "cell_type": "code",
   "execution_count": 1,
   "metadata": {},
   "outputs": [
    {
     "name": "stdout",
     "output_type": "stream",
     "text": [
      "WARNING:tensorflow:From c:\\Users\\hariprasad\\AppData\\Local\\Programs\\Python\\Python311\\Lib\\site-packages\\keras\\src\\losses.py:2976: The name tf.losses.sparse_softmax_cross_entropy is deprecated. Please use tf.compat.v1.losses.sparse_softmax_cross_entropy instead.\n",
      "\n"
     ]
    }
   ],
   "source": [
    "# import libraries\n",
    "import pandas as pd\n",
    "import numpy as np\n",
    "import matplotlib.pyplot as plt\n",
    "\n",
    "from sklearn.model_selection import train_test_split\n",
    "\n",
    "from keras.utils import to_categorical\n",
    "from keras.models import Sequential\n",
    "from keras.layers import Input, Conv2D, MaxPool2D, Flatten, Dense, BatchNormalization, Reshape, Dropout\n",
    "from keras.callbacks import LearningRateScheduler"
   ]
  },
  {
   "cell_type": "code",
   "execution_count": 2,
   "metadata": {},
   "outputs": [],
   "source": [
    "# load the data\n",
    "train = pd.read_csv(r\"\\\\wsl.localhost\\Ubuntu\\home\\hariprasad\\Kannada-MNIST\\train.csv\")\n",
    "test = pd.read_csv(r\"\\\\wsl.localhost\\Ubuntu\\home\\hariprasad\\Kannada-MNIST\\test.csv\")\n",
    "\n",
    "# process data for NN\n",
    "\n",
    "# Y values are the \"label\" col in the train.csv file\n",
    "Y_train = train[\"label\"]\n",
    "\n",
    "# X values are all the cols except \"label\"\n",
    "X_train = train.drop(labels=[\"label\"], axis=1)\n",
    "\n",
    "# divide each cell value by 255 to get values betn (0, 1)\n",
    "X_train = X_train / 255.0\n",
    "\n",
    "# X values are all the cols except \"id\"\n",
    "X_test = test.drop(labels=[\"id\"], axis=1)\n",
    "X_test = X_test / 255.0"
   ]
  },
  {
   "cell_type": "code",
   "execution_count": 3,
   "metadata": {},
   "outputs": [
    {
     "name": "stdout",
     "output_type": "stream",
     "text": [
      "X_train shape = (60000, 784)\n",
      "Y_train shape = (60000,)\n",
      "X_test shape = (5000, 784)\n"
     ]
    }
   ],
   "source": [
    "print(\"X_train shape =\", X_train.shape)\n",
    "print(\"Y_train shape =\", Y_train.shape)\n",
    "print(\"X_test shape =\", X_test.shape)"
   ]
  },
  {
   "cell_type": "code",
   "execution_count": 4,
   "metadata": {},
   "outputs": [],
   "source": [
    "# reshape data to be (28, 28, 1)\n",
    "X_train = X_train.values.reshape(-1, 28, 28, 1)\n",
    "X_test = X_test.values.reshape(-1, 28, 28, 1)\n",
    "\n",
    "# one-hot encode Y_train\n",
    "Y_train = to_categorical(Y_train, num_classes=10)"
   ]
  },
  {
   "cell_type": "code",
   "execution_count": 5,
   "metadata": {},
   "outputs": [
    {
     "name": "stdout",
     "output_type": "stream",
     "text": [
      "X_train shape = (60000, 28, 28, 1)\n",
      "Y_train shape = (60000, 10)\n",
      "X_test shape = (5000, 28, 28, 1)\n"
     ]
    }
   ],
   "source": [
    "print(\"X_train shape =\", X_train.shape)\n",
    "print(\"Y_train shape =\", Y_train.shape)\n",
    "print(\"X_test shape =\", X_test.shape)"
   ]
  },
  {
   "cell_type": "code",
   "execution_count": 6,
   "metadata": {},
   "outputs": [
    {
     "data": {
      "text/plain": [
       "<matplotlib.image.AxesImage at 0x184d7cd8f90>"
      ]
     },
     "execution_count": 6,
     "metadata": {},
     "output_type": "execute_result"
    },
    {
     "data": {
      "image/png": "[encoded data removed]",
      "text/plain": [
       "<Figure size 640x480 with 1 Axes>"
      ]
     },
     "metadata": {},
     "output_type": "display_data"
    }
   ],
   "source": [
    "plt.imshow(X_train[9])"
   ]
  },
  {
   "cell_type": "code",
   "execution_count": 7,
   "metadata": {},
   "outputs": [],
   "source": [
    "# global variables\n",
    "\n",
    "# LearningRateScheduler(schedule, verbose)\n",
    "# schedule - a function that takes an epoch index (integer, indexed from 0) \n",
    "#            and current learning rate (float) as inputs \n",
    "#            and returns a new learning rate as output (float)\n",
    "# verbose  - 0: quiet, 1: log update messages\n",
    "\n",
    "annealer = LearningRateScheduler(lambda x: 1e-3 *  0.95 ** x, verbose=0)"
   ]
  },
  {
   "cell_type": "markdown",
   "metadata": {},
   "source": [
    "#### I will use the following notations to describe the CNN architecture:\n",
    "- **32C5** = 1 convolution layer with 32 feature maps using a 5x5 filter and stride 1  \n",
    "- **P2** = max pooling using 2x2 filter and stride 2                                \n",
    "- **128** = fully connected dense layer with 128 units\n",
    "\n",
    "784 - [32C5-P2] - [64C5-P2] - 128 - 10 with 40% dropout"
   ]
  },
  {
   "cell_type": "code",
   "execution_count": 8,
   "metadata": {},
   "outputs": [
    {
     "name": "stdout",
     "output_type": "stream",
     "text": [
      "WARNING:tensorflow:From c:\\Users\\hariprasad\\AppData\\Local\\Programs\\Python\\Python311\\Lib\\site-packages\\keras\\src\\backend.py:873: The name tf.get_default_graph is deprecated. Please use tf.compat.v1.get_default_graph instead.\n",
      "\n",
      "WARNING:tensorflow:From c:\\Users\\hariprasad\\AppData\\Local\\Programs\\Python\\Python311\\Lib\\site-packages\\keras\\src\\layers\\normalization\\batch_normalization.py:979: The name tf.nn.fused_batch_norm is deprecated. Please use tf.compat.v1.nn.fused_batch_norm instead.\n",
      "\n",
      "WARNING:tensorflow:From c:\\Users\\hariprasad\\AppData\\Local\\Programs\\Python\\Python311\\Lib\\site-packages\\keras\\src\\optimizers\\__init__.py:309: The name tf.train.Optimizer is deprecated. Please use tf.compat.v1.train.Optimizer instead.\n",
      "\n"
     ]
    }
   ],
   "source": [
    "# build CNN\n",
    "input_shape = (28, 28, 1)\n",
    "\n",
    "model = Sequential()\n",
    "# 784\n",
    "model.add(Input(input_shape))\n",
    "# [32C5-P2]\n",
    "model.add(Conv2D(32,kernel_size=5,activation='relu'))\n",
    "model.add(BatchNormalization())\n",
    "model.add(MaxPool2D())\n",
    "model.add(Dropout(0.4))\n",
    "# [64C5-P2]\n",
    "model.add(Conv2D(64,kernel_size=5,activation='relu'))\n",
    "model.add(BatchNormalization())\n",
    "model.add(MaxPool2D())\n",
    "model.add(Dropout(0.4))\n",
    "# 128\n",
    "model.add(Flatten())\n",
    "model.add(Dense(128, activation='relu'))\n",
    "model.add(Dropout(0.4))\n",
    "# 10\n",
    "model.add(Dense(10, activation='softmax'))\n",
    "model.compile(optimizer=\"adam\", loss=\"categorical_crossentropy\", metrics=[\"accuracy\"])"
   ]
  },
  {
   "cell_type": "code",
   "execution_count": 9,
   "metadata": {},
   "outputs": [],
   "source": [
    "# create train and validation (dev) sets from X_train\n",
    "\n",
    "X_train2, X_val2, Y_train2, Y_val2 = train_test_split(X_train, Y_train, test_size=0.2)"
   ]
  },
  {
   "cell_type": "code",
   "execution_count": 10,
   "metadata": {},
   "outputs": [
    {
     "name": "stdout",
     "output_type": "stream",
     "text": [
      "X_train2 shape = (48000, 28, 28, 1)\n",
      "Y_train2 shape = (48000, 10)\n",
      "X_val2 shape = (12000, 28, 28, 1)\n",
      "Y_val2 shape = (12000, 10)\n"
     ]
    }
   ],
   "source": [
    "print(\"X_train2 shape =\", X_train2.shape)\n",
    "print(\"Y_train2 shape =\", Y_train2.shape)\n",
    "print(\"X_val2 shape =\", X_val2.shape)\n",
    "print(\"Y_val2 shape =\", Y_val2.shape)"
   ]
  },
  {
   "cell_type": "code",
   "execution_count": 11,
   "metadata": {},
   "outputs": [
    {
     "name": "stdout",
     "output_type": "stream",
     "text": [
      "WARNING:tensorflow:From c:\\Users\\hariprasad\\AppData\\Local\\Programs\\Python\\Python311\\Lib\\site-packages\\keras\\src\\utils\\tf_utils.py:492: The name tf.ragged.RaggedTensorValue is deprecated. Please use tf.compat.v1.ragged.RaggedTensorValue instead.\n",
      "\n",
      "WARNING:tensorflow:From c:\\Users\\hariprasad\\AppData\\Local\\Programs\\Python\\Python311\\Lib\\site-packages\\keras\\src\\engine\\base_layer_utils.py:384: The name tf.executing_eagerly_outside_functions is deprecated. Please use tf.compat.v1.executing_eagerly_outside_functions instead.\n",
      "\n"
     ]
    }
   ],
   "source": [
    "epochs = 35\n",
    "\n",
    "history = model.fit(\n",
    "    X_train2, Y_train2, \n",
    "    batch_size=64, \n",
    "    epochs = epochs,  \n",
    "    validation_data = (X_val2,Y_val2), \n",
    "    callbacks=[annealer], \n",
    "    verbose=0\n",
    ")"
   ]
  },
  {
   "cell_type": "code",
   "execution_count": 12,
   "metadata": {},
   "outputs": [
    {
     "name": "stdout",
     "output_type": "stream",
     "text": [
      "Epochs=35, Train accuracy=0.99760, Validation accuracy=0.99650\n"
     ]
    }
   ],
   "source": [
    "print(\n",
    "    \"Epochs={0:d}, Train accuracy={1:.5f}, Validation accuracy={2:.5f}\".format(epochs, max(history.history['accuracy']), max(history.history['val_accuracy']))\n",
    ")"
   ]
  },
  {
   "cell_type": "markdown",
   "metadata": {},
   "source": [
    "### Validation Accuracy = 99.650%"
   ]
  },
  {
   "cell_type": "code",
   "execution_count": 16,
   "metadata": {},
   "outputs": [],
   "source": [
    "# save our model\n",
    "\n",
    "# configuration only saving (serialisation)\n",
    "model_json = model.to_json()\n",
    "with open(\"model.json\",\"w\") as json_file:\n",
    "    json_file.write(model_json)\n"
   ]
  },
  {
   "cell_type": "code",
   "execution_count": 17,
   "metadata": {},
   "outputs": [],
   "source": [
    "# save our model\n",
    "import h5py\n",
    "model.save(\"model.h5\")"
   ]
  }
 ],
 "metadata": {
  "kernelspec": {
   "display_name": "Python 3",
   "language": "python",
   "name": "python3"
  },
  "language_info": {
   "codemirror_mode": {
    "name": "ipython",
    "version": 3
   },
   "file_extension": ".py",
   "mimetype": "text/x-python",
   "name": "python",
   "nbconvert_exporter": "python",
   "pygments_lexer": "ipython3",
   "version": "3.11.4"
  }
 },
 "nbformat": 4,
 "nbformat_minor": 2
}
